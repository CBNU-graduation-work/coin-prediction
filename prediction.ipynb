!pip install pyupbit

from pyexpat import model
import matplotlib.pyplot as plt
import matplotlib as mpl
import numpy as np
import pandas as pd
import pyupbit
from keras.models import Model
from keras.layers import Input, Dense, LSTM, Bidirectional
from keras import backend as K
import matplotlib.pyplot as plt

#upbit로부터 2022년 5월 1일을 기준으로 1000시간 전의 데이터를 불러옴

df=pyupbit.get_ohlcv("KRW-BTC", interval="minute60", count=1000, to="20220801")
df

#받아온 데이터 전처리
df=df.reset_index()
df['ds']=df['index']
df['y']=df['close']
data= df[['ds','y']]
data

df['zero']=np.arange(1000)
df



data=df['y']
data = np.array(data)
for idx, val in enumerate(data):
  data[idx] = (val-25000000)/1e6

print(data)

def generateX(a, n):
   x_train = []
   y_train = []
   for i in range(len(a)):
        x = a[i:(i + n)]
        if (i + n) < len(a):
            x_train.append(x)
            y_train.append(a[i + n])
        else:
            break


   return np.array(x_train), np.array(y_train)

input_size = 96
x, y = generateX(data, input_size)

print(x.shape)

x = x.reshape(-1,input_size,1)
y = y.reshape(-1,1)

test_train_ratio = 0.9
maginot_line = int(test_train_ratio * x.shape[0])

x_train = x[:maginot_line, :, :]
y_train = y[:maginot_line, :]
x_test = x[maginot_line:, :, :]
y_test = y[maginot_line:, :]

print(x_test.shape)
print(y_test.shape)

K.clear_session()     # 모델 생성전에 tensorflow의 graph 영역을 clear한다.
xInput = Input(batch_shape=(None, x_train.shape[1], x_train.shape[2]))
xLstm_1 = LSTM(10, return_sequences = True)(xInput)
xLstm_2 = LSTM(10, return_sequences = False)(xLstm_1)
layer1 = Dense(32, activation='relu')(xLstm_2)  # 뉴런이 32인  layer추가 활성화 함수로 레루
layer2 = Dense(32, activation='relu')(layer1)
xOutput = Dense(1)(layer2)


model = Model(xInput, xOutput)
model.summary()
model.compile(loss='mse', optimizer='adam') #adam optimizer
#model.compile(loss='mse', optimizer='sgd') #sgd optimizer
#model.compile(loss='mse', optimizer='rmsprop') #rmsprop optimizer
#model.compile(loss='mse', optimizer='adagrad') #adagard optimizer


 # 학습
history = model.fit(x_train, y_train, epochs=100, batch_size=20,verbose=1, validation_data=(x_test,y_test))  #verbose 출력 형식

x_test.shape
def get_prediction(initial_input, output_num):
  prediction = []
  input = np.array(initial_input)

  input = np.expand_dims(input, axis=0)
  
  for i in range(output_num):
    output = model.predict(input)
    prediction.append(output[0][0])
    input[0][0:input_size-1] = input[0][1:input_size]
    input[0][input_size-1]=output
  prediction = np.array(prediction)
  return prediction

  loss = history.history['loss']
val_loss = history.history['val_loss']

epochs = range(len(loss))

'''
plt.plot(epochs, loss, 'r', label='Training accuracy')
plt.plot(epochs, val_loss, 'b', label='Validation accuracy')
plt.title('Training and validation accuracy')
plt.legend()
plt.figure()
'''
'''
ax = plt.gca()
ax.set_ylim([0, 20])

plt.plot(epochs, loss, 'r', label='Training Loss')
plt.plot(epochs, val_loss, 'b', label='Validation Loss')
plt.title('Training and validation loss')
plt.legend()

plt.show()

ax = plt.gca()
ax.set_ylim([0, 5])
plt.plot(epochs, loss, 'r', label='Training Loss')
plt.plot(epochs, val_loss, 'b', label='Validation Loss')
plt.title('Training and validation loss')
plt.legend()

plt.show()

ax = plt.gca()
'''
#ax.set_ylim([0, 1])
#ax.set_xlim([20, 100])
plt.yscale("log")
plt.plot(epochs, loss, 'r', label='Training Loss')
plt.plot(epochs, val_loss, 'b', label='Validation Loss')
plt.title('Training and validation loss')
plt.legend()

plt.show()

'''
for i in range(10):
  model.fit(x_train, y_train, epochs=5, batch_size=20,verbose=1)s
'''

 # 예측
#y_hat = model.predict(x_test, batch_size=1)
y_hat = get_prediction(initial_input=x_test[0],output_num=y_test.shape[0])

print(y_hat.shape)
 # 예측 결과 시각화
a_axis = np.arange(0, len(y_train))
b_axis = np.arange(len(y_train), len(y_train) + len(y_hat))

plt.figure(figsize=(40,20))
plt.plot(a_axis, y_train.reshape(y_train.shape[0],), 'o-')
plt.plot(b_axis, y_hat.reshape(y_test.shape[0],), 'o-', color='red', label='Predicted')
plt.plot(b_axis, y_test.reshape(y_test.shape[0],), 'o-', color='green', alpha=0.2, label='Actual')
plt.legend()
plt.show()
